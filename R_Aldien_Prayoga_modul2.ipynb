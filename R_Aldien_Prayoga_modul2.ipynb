{
  "nbformat": 4,
  "nbformat_minor": 0,
  "metadata": {
    "colab": {
      "name": "R.Aldien Prayoga modul2.ipynb",
      "provenance": [],
      "collapsed_sections": [],
      "authorship_tag": "ABX9TyPPZgYpNVzRGgrb60KyNo5p",
      "include_colab_link": true
    },
    "kernelspec": {
      "name": "python3",
      "display_name": "Python 3"
    },
    "language_info": {
      "name": "python"
    }
  },
  "cells": [
    {
      "cell_type": "markdown",
      "metadata": {
        "id": "view-in-github",
        "colab_type": "text"
      },
      "source": [
        "<a href=\"https://colab.research.google.com/github/Raldienpr325/Coba/blob/master/R_Aldien_Prayoga_modul2.ipynb\" target=\"_parent\"><img src=\"https://colab.research.google.com/assets/colab-badge.svg\" alt=\"Open In Colab\"/></a>"
      ]
    },
    {
      "cell_type": "code",
      "metadata": {
        "id": "-XcNM4v0NR7k"
      },
      "source": [
        ""
      ],
      "execution_count": null,
      "outputs": []
    },
    {
      "cell_type": "code",
      "metadata": {
        "colab": {
          "base_uri": "https://localhost:8080/"
        },
        "id": "jo0jn__tNTVr",
        "outputId": "31768f1f-1557-404e-e478-d410b80c9b04"
      },
      "source": [
        "print(\"Hello World\")"
      ],
      "execution_count": null,
      "outputs": [
        {
          "output_type": "stream",
          "text": [
            "Hello World\n"
          ],
          "name": "stdout"
        }
      ]
    },
    {
      "cell_type": "code",
      "metadata": {
        "colab": {
          "base_uri": "https://localhost:8080/"
        },
        "id": "CXvRapnkNt2j",
        "outputId": "544882a6-bb5e-4709-e577-e72fe8b567a0"
      },
      "source": [
        "print(\"Hello, World!!!!\")\n",
        "print(\"Goodbye World!!!\")"
      ],
      "execution_count": null,
      "outputs": [
        {
          "output_type": "stream",
          "text": [
            "Hello, World!!!!\n",
            "Goodbye World!!!\n"
          ],
          "name": "stdout"
        }
      ]
    },
    {
      "cell_type": "code",
      "metadata": {
        "colab": {
          "base_uri": "https://localhost:8080/"
        },
        "id": "ZZA6AkYqN21t",
        "outputId": "27fc8213-be82-40e0-89ca-b47a53fdc000"
      },
      "source": [
        "print(\"Hello, python !\")\n",
        "print(\"aldin\")\n",
        "print('aldin')"
      ],
      "execution_count": null,
      "outputs": [
        {
          "output_type": "stream",
          "text": [
            "Hello, python !\n",
            "aldin\n",
            "aldin\n"
          ],
          "name": "stdout"
        }
      ]
    },
    {
      "cell_type": "markdown",
      "metadata": {
        "id": "-jT1boUiNugW"
      },
      "source": [
        "Lab"
      ]
    },
    {
      "cell_type": "code",
      "metadata": {
        "colab": {
          "base_uri": "https://localhost:8080/"
        },
        "id": "yPG24HI1Nldq",
        "outputId": "4316188e-e6fc-4d5e-d807-390f83fe86bf"
      },
      "source": [
        "print(\"seketika langit menjadi gelpa\\nkemudian hujan turun dengan deras\")\n",
        "print()\n",
        "print(\"ibu memasaka didapur\\ndan kakak menyapu dihalaman\")"
      ],
      "execution_count": null,
      "outputs": [
        {
          "output_type": "stream",
          "text": [
            "seketika langit menjadi gelpa\n",
            "kemudian hujan turun dengan deras\n",
            "\n",
            "ibu memasaka didapur\n",
            "dan kakak menyapu dihalaman\n"
          ],
          "name": "stdout"
        }
      ]
    },
    {
      "cell_type": "code",
      "metadata": {
        "colab": {
          "base_uri": "https://localhost:8080/"
        },
        "id": "w9SvfLIIORf4",
        "outputId": "b3e49ff4-e68f-43ba-b1f0-ac41f0d1cbc5"
      },
      "source": [
        "#dia mengatakan \"halo\"\n",
        "print (\"dia mengatakan \\\"halo\\\"\")"
      ],
      "execution_count": null,
      "outputs": [
        {
          "output_type": "stream",
          "text": [
            "dia mengatakan \"halo\"\n"
          ],
          "name": "stdout"
        }
      ]
    },
    {
      "cell_type": "code",
      "metadata": {
        "colab": {
          "base_uri": "https://localhost:8080/"
        },
        "id": "4nHM3eaqOac2",
        "outputId": "37f5189e-a253-49d2-beba-423c020a8dda"
      },
      "source": [
        "print(\"\\\"\")"
      ],
      "execution_count": null,
      "outputs": [
        {
          "output_type": "stream",
          "text": [
            "\"\n"
          ],
          "name": "stdout"
        }
      ]
    },
    {
      "cell_type": "code",
      "metadata": {
        "colab": {
          "base_uri": "https://localhost:8080/"
        },
        "id": "eAic7FkyOjLv",
        "outputId": "da9966af-8d73-4b50-c99c-7358803cabce"
      },
      "source": [
        "print(\"\\\\\")"
      ],
      "execution_count": null,
      "outputs": [
        {
          "output_type": "stream",
          "text": [
            "\\\n"
          ],
          "name": "stdout"
        }
      ]
    },
    {
      "cell_type": "code",
      "metadata": {
        "colab": {
          "base_uri": "https://localhost:8080/"
        },
        "id": "1xidEP-6OmSH",
        "outputId": "c03b2f3b-cfe9-4602-c087-38daa884e102"
      },
      "source": [
        "print(\"my name is\" , \" python\")\n",
        "print(\"monthy python\")"
      ],
      "execution_count": null,
      "outputs": [
        {
          "output_type": "stream",
          "text": [
            "my name is  python\n",
            "monthy python\n"
          ],
          "name": "stdout"
        }
      ]
    },
    {
      "cell_type": "code",
      "metadata": {
        "colab": {
          "base_uri": "https://localhost:8080/"
        },
        "id": "ZlW1RFdROsGI",
        "outputId": "ab24d97b-5b2c-445d-a7a7-7f73f9e48d7e"
      },
      "source": [
        "print(\"my name is\",\"python\",end=\" \")\n",
        "print(\"monthy python\")"
      ],
      "execution_count": null,
      "outputs": [
        {
          "output_type": "stream",
          "text": [
            "my name is python monthy python\n"
          ],
          "name": "stdout"
        }
      ]
    },
    {
      "cell_type": "code",
      "metadata": {
        "id": "Ki_kNqnuPKNu",
        "colab": {
          "base_uri": "https://localhost:8080/"
        },
        "outputId": "c0ceb143-09db-4c74-ef4f-0333310ab396"
      },
      "source": [
        "print(\"My name is \", end=\" ## \")\n",
        "print(\"Monty Python.\")"
      ],
      "execution_count": 14,
      "outputs": [
        {
          "output_type": "stream",
          "text": [
            "My name is  ## Monty Python.\n"
          ],
          "name": "stdout"
        }
      ]
    },
    {
      "cell_type": "code",
      "metadata": {
        "colab": {
          "base_uri": "https://localhost:8080/"
        },
        "id": "Vh3Uz4HkPaEf",
        "outputId": "d01edb5b-404b-44d3-b9f6-427f6fb1d033"
      },
      "source": [
        "print(\"My\", \"name\", \"is\", \"Monty\", \"Python.\", sep=\"-\")"
      ],
      "execution_count": 15,
      "outputs": [
        {
          "output_type": "stream",
          "text": [
            "My-name-is-Monty-Python.\n"
          ],
          "name": "stdout"
        }
      ]
    },
    {
      "cell_type": "code",
      "metadata": {
        "colab": {
          "base_uri": "https://localhost:8080/"
        },
        "id": "EUfHFj56PcEY",
        "outputId": "7a1b4db7-6d9f-4a4e-dea6-b7b4e1016203"
      },
      "source": [
        "print(\"My\", \"name\", \"is\", sep=\"_\", end=\"*\")\n",
        "print(\"Monty\", \"Python.\", sep=\"*\", end=\"*\\n\")\n",
        "print(\"Digital\", \"Talent\", \"Dahsyat\", sep=\"_\", end=\"*\")\n",
        "print(\"Guntur\", \"Budi.\", sep=\"*\", end=\"*\\n\")"
      ],
      "execution_count": 16,
      "outputs": [
        {
          "output_type": "stream",
          "text": [
            "My_name_is*Monty*Python.*\n",
            "Digital_Talent_Dahsyat*Guntur*Budi.*\n"
          ],
          "name": "stdout"
        }
      ]
    },
    {
      "cell_type": "code",
      "metadata": {
        "colab": {
          "base_uri": "https://localhost:8080/"
        },
        "id": "DaT1WJ9BPeuQ",
        "outputId": "66f232e6-d62e-443d-e4a1-16d56ccb20a1"
      },
      "source": [
        "\n",
        "print(\"Programming\",\"Essentials\",\"in\",sep=\"***\",end=\"...\")\n",
        "print(\"Python\"*2)"
      ],
      "execution_count": 17,
      "outputs": [
        {
          "output_type": "stream",
          "text": [
            "Programming***Essentials***in...PythonPython\n"
          ],
          "name": "stdout"
        }
      ]
    },
    {
      "cell_type": "code",
      "metadata": {
        "colab": {
          "base_uri": "https://localhost:8080/"
        },
        "id": "kaCxaRkLPxkn",
        "outputId": "b4712705-2391-4a5f-92da-f35f49fcf868"
      },
      "source": [
        "print(\"    *\\n   * *\\n  *   *\\n *     *\\n***   ***\\n  *   *\\n  *   *\\n  *****\\n\"*2)\n"
      ],
      "execution_count": 19,
      "outputs": [
        {
          "output_type": "stream",
          "text": [
            "    *\n",
            "   * *\n",
            "  *   *\n",
            " *     *\n",
            "***   ***\n",
            "  *   *\n",
            "  *   *\n",
            "  *****\n",
            "    *\n",
            "   * *\n",
            "  *   *\n",
            " *     *\n",
            "***   ***\n",
            "  *   *\n",
            "  *   *\n",
            "  *****\n",
            "\n"
          ],
          "name": "stdout"
        }
      ]
    },
    {
      "cell_type": "code",
      "metadata": {
        "colab": {
          "base_uri": "https://localhost:8080/"
        },
        "id": "LsluCeUFP75p",
        "outputId": "d4fc25df-25e5-4c62-c72e-53380f35b4e7"
      },
      "source": [
        "print(\"    *    \"*2)\n",
        "print(\"   * *   \"*2)\n",
        "print(\"  *   *  \"*2)\n",
        "print(\" *     * \"*2)\n",
        "print(\"***   ***\"*2)\n",
        "print(\"  *   *  \"*2)\n",
        "print(\"  *   *  \"*2)\n",
        "print(\"  *****  \"*2)"
      ],
      "execution_count": 20,
      "outputs": [
        {
          "output_type": "stream",
          "text": [
            "    *        *    \n",
            "   * *      * *   \n",
            "  *   *    *   *  \n",
            " *     *  *     * \n",
            "***   ******   ***\n",
            "  *   *    *   *  \n",
            "  *   *    *   *  \n",
            "  *****    *****  \n"
          ],
          "name": "stdout"
        }
      ]
    },
    {
      "cell_type": "code",
      "metadata": {
        "colab": {
          "base_uri": "https://localhost:8080/"
        },
        "id": "aE5nSj2WP9Zp",
        "outputId": "73a4fa9b-ac4d-4472-8047-1df7b0bb75b9"
      },
      "source": [
        "print(\"    *    \"*3)\n",
        "print(\"   * *   \"*3)\n",
        "print(\"  *   *  \"*3)\n",
        "print(\" *     * \"*3)\n",
        "print(\"***   ***\"*3)\n",
        "print(\"  *   *  \"*3)\n",
        "print(\"  *   *  \"*3)\n",
        "print(\"  *****  \"*3)"
      ],
      "execution_count": 21,
      "outputs": [
        {
          "output_type": "stream",
          "text": [
            "    *        *        *    \n",
            "   * *      * *      * *   \n",
            "  *   *    *   *    *   *  \n",
            " *     *  *     *  *     * \n",
            "***   ******   ******   ***\n",
            "  *   *    *   *    *   *  \n",
            "  *   *    *   *    *   *  \n",
            "  *****    *****    *****  \n"
          ],
          "name": "stdout"
        }
      ]
    },
    {
      "cell_type": "code",
      "metadata": {
        "colab": {
          "base_uri": "https://localhost:8080/"
        },
        "id": "eySiL_QcQA6j",
        "outputId": "a47d74ae-8482-415d-f134-df97a2283dac"
      },
      "source": [
        "print('2')\n",
        "print(2)\n",
        "\n",
        "print(type('2'))\n",
        "print(type(2))"
      ],
      "execution_count": 22,
      "outputs": [
        {
          "output_type": "stream",
          "text": [
            "2\n",
            "2\n",
            "<class 'str'>\n",
            "<class 'int'>\n"
          ],
          "name": "stdout"
        }
      ]
    },
    {
      "cell_type": "code",
      "metadata": {
        "colab": {
          "base_uri": "https://localhost:8080/"
        },
        "id": "nJ-bFnf5QKxf",
        "outputId": "c3c7d653-091d-4b8c-85dd-0ec43f95352a"
      },
      "source": [
        "print(5, \"mempunyai tipe\" , type(5))\n",
        "print(5.0 , \"mempunyai tipe\", type(5.0))"
      ],
      "execution_count": 23,
      "outputs": [
        {
          "output_type": "stream",
          "text": [
            "5 mempunyai tipe <class 'int'>\n",
            "5.0 mempunyai tipe <class 'float'>\n"
          ],
          "name": "stdout"
        }
      ]
    },
    {
      "cell_type": "code",
      "metadata": {
        "colab": {
          "base_uri": "https://localhost:8080/"
        },
        "id": "0BGdCKajQUUi",
        "outputId": "10f00518-f00b-4c43-9212-0924bcfec6ba"
      },
      "source": [
        "print(0.000000003) #sama dengan 3e-09\n",
        "print(3e-8)"
      ],
      "execution_count": 24,
      "outputs": [
        {
          "output_type": "stream",
          "text": [
            "3e-09\n",
            "3e-08\n"
          ],
          "name": "stdout"
        }
      ]
    },
    {
      "cell_type": "code",
      "metadata": {
        "colab": {
          "base_uri": "https://localhost:8080/"
        },
        "id": "z9OERkzrQgnx",
        "outputId": "059f03ed-c174-4a43-fc81-bc9082084300"
      },
      "source": [
        "print(\"im monthy python\")\n",
        "print(\"jumat\")\n",
        "print(\"saya berpendapat python itu mudah\" , 'kata monthy')\n",
        "print(\"1.5\")\n",
        "print(\"1000\")"
      ],
      "execution_count": 25,
      "outputs": [
        {
          "output_type": "stream",
          "text": [
            "im monthy python\n",
            "jumat\n",
            "saya berpendapat python itu mudah kata monthy\n",
            "1.5\n",
            "1000\n"
          ],
          "name": "stdout"
        }
      ]
    },
    {
      "cell_type": "code",
      "metadata": {
        "colab": {
          "base_uri": "https://localhost:8080/"
        },
        "id": "zY46wFUGRIWS",
        "outputId": "2ee7ca2d-8af2-4f2d-cf28-447f6608aba6"
      },
      "source": [
        "print (3<1)\n",
        "print (True)\n",
        "print (0>3)\n",
        "print (False)"
      ],
      "execution_count": 28,
      "outputs": [
        {
          "output_type": "stream",
          "text": [
            "False\n",
            "True\n",
            "False\n",
            "False\n"
          ],
          "name": "stdout"
        }
      ]
    },
    {
      "cell_type": "code",
      "metadata": {
        "colab": {
          "base_uri": "https://localhost:8080/"
        },
        "id": "JK3PREPQRUHz",
        "outputId": "1cb0ae93-17d6-4eb8-b1e9-5f8a183f3167"
      },
      "source": [
        "print (None)"
      ],
      "execution_count": 29,
      "outputs": [
        {
          "output_type": "stream",
          "text": [
            "None\n"
          ],
          "name": "stdout"
        }
      ]
    },
    {
      "cell_type": "code",
      "metadata": {
        "colab": {
          "base_uri": "https://localhost:8080/"
        },
        "id": "50DupE12RZbU",
        "outputId": "d397fce8-7372-4eae-8183-258bfebe112d"
      },
      "source": [
        "print (' \"i\\'m\"\\n\"\"learning\"\"\\n\"\"\"python\"\"\"')"
      ],
      "execution_count": 30,
      "outputs": [
        {
          "output_type": "stream",
          "text": [
            " \"i'm\"\n",
            "\"\"learning\"\"\n",
            "\"\"\"python\"\"\"\n"
          ],
          "name": "stdout"
        }
      ]
    },
    {
      "cell_type": "code",
      "metadata": {
        "colab": {
          "base_uri": "https://localhost:8080/"
        },
        "id": "3qVgCIx_RsHj",
        "outputId": "f7235523-a467-45b1-fa7a-a85eec6fd843"
      },
      "source": [
        "print(2*4)"
      ],
      "execution_count": 31,
      "outputs": [
        {
          "output_type": "stream",
          "text": [
            "8\n"
          ],
          "name": "stdout"
        }
      ]
    },
    {
      "cell_type": "code",
      "metadata": {
        "colab": {
          "base_uri": "https://localhost:8080/"
        },
        "id": "69cqBR99Ru-B",
        "outputId": "4809e2af-1638-479b-edc9-fd0d54348d5a"
      },
      "source": [
        "print (2. ** 3)\n",
        "print ( 2 ** 3)\n",
        "print (2 ** 3.)\n",
        "print (2. ** 3.)"
      ],
      "execution_count": 33,
      "outputs": [
        {
          "output_type": "stream",
          "text": [
            "8.0\n",
            "8\n",
            "8.0\n",
            "8.0\n"
          ],
          "name": "stdout"
        }
      ]
    },
    {
      "cell_type": "code",
      "metadata": {
        "colab": {
          "base_uri": "https://localhost:8080/"
        },
        "id": "95mwGGO8R8kX",
        "outputId": "282ddf35-e210-4aaa-e417-e248b59e1d18"
      },
      "source": [
        "#pembagian\n",
        "print ( 6 / 3)\n",
        "print (6 / 3.)\n",
        "print (6. / 3)\n",
        "print(6. / 3.)"
      ],
      "execution_count": 34,
      "outputs": [
        {
          "output_type": "stream",
          "text": [
            "2.0\n",
            "2.0\n",
            "2.0\n",
            "2.0\n"
          ],
          "name": "stdout"
        }
      ]
    },
    {
      "cell_type": "code",
      "metadata": {
        "colab": {
          "base_uri": "https://localhost:8080/"
        },
        "id": "jIay8r_LSInf",
        "outputId": "46b6dc64-5c58-4335-baab-99b26611a1e9"
      },
      "source": [
        "#pembagian dengan pembulatan ke bawah\n",
        "print (6 // 3)\n",
        "print (6 //3.)\n",
        "print (6. // 3)\n",
        "print ( 6. // 3.)\n",
        "print ( 7 // 2)"
      ],
      "execution_count": 36,
      "outputs": [
        {
          "output_type": "stream",
          "text": [
            "2\n",
            "2.0\n",
            "2.0\n",
            "2.0\n",
            "3\n"
          ],
          "name": "stdout"
        }
      ]
    },
    {
      "cell_type": "code",
      "metadata": {
        "colab": {
          "base_uri": "https://localhost:8080/"
        },
        "id": "WegL8oEaSXEZ",
        "outputId": "037f52bd-088e-4dfd-cf66-80fcda764d67"
      },
      "source": [
        "print(6 // 4)\n",
        "print(6. // 4)\n",
        "\n",
        "print(6 / 4)\n",
        "print(6. / 4)\n",
        "\n",
        "#Penting ! pembulatan selalu ke nilai bawahnya"
      ],
      "execution_count": 37,
      "outputs": [
        {
          "output_type": "stream",
          "text": [
            "1\n",
            "1.0\n",
            "1.5\n",
            "1.5\n"
          ],
          "name": "stdout"
        }
      ]
    },
    {
      "cell_type": "code",
      "metadata": {
        "colab": {
          "base_uri": "https://localhost:8080/"
        },
        "id": "64eDAmRtSa4O",
        "outputId": "bc67876a-c399-454d-d442-58fb08995bef"
      },
      "source": [
        "print (-6 // 4)\n",
        "print (6. // -4)"
      ],
      "execution_count": 38,
      "outputs": [
        {
          "output_type": "stream",
          "text": [
            "-2\n",
            "-2.0\n"
          ],
          "name": "stdout"
        }
      ]
    },
    {
      "cell_type": "code",
      "metadata": {
        "colab": {
          "base_uri": "https://localhost:8080/"
        },
        "id": "akku3aAhSiMF",
        "outputId": "b3708ba7-7a32-471d-9505-0a65e4451ba7"
      },
      "source": [
        "#modulus sisa bagi\n",
        "print (14 % 4)"
      ],
      "execution_count": 39,
      "outputs": [
        {
          "output_type": "stream",
          "text": [
            "2\n"
          ],
          "name": "stdout"
        }
      ]
    },
    {
      "cell_type": "code",
      "metadata": {
        "colab": {
          "base_uri": "https://localhost:8080/"
        },
        "id": "4M4n5KuZSnPS",
        "outputId": "8f6c992b-bde4-40f2-a3e0-8a2e4060be43"
      },
      "source": [
        "print (-4+4)\n",
        "print (-4. +8)\n",
        "print (-4+8.)"
      ],
      "execution_count": 41,
      "outputs": [
        {
          "output_type": "stream",
          "text": [
            "0\n",
            "4.0\n",
            "4.0\n"
          ],
          "name": "stdout"
        }
      ]
    },
    {
      "cell_type": "code",
      "metadata": {
        "colab": {
          "base_uri": "https://localhost:8080/"
        },
        "id": "X146ggaNSx9c",
        "outputId": "e74a073f-7073-40bf-f758-f62980e8a713"
      },
      "source": [
        "2+3*5 #perkalian didahulukan dari penambahan"
      ],
      "execution_count": 42,
      "outputs": [
        {
          "output_type": "execute_result",
          "data": {
            "text/plain": [
              "17"
            ]
          },
          "metadata": {
            "tags": []
          },
          "execution_count": 42
        }
      ]
    },
    {
      "cell_type": "code",
      "metadata": {
        "colab": {
          "base_uri": "https://localhost:8080/"
        },
        "id": "vDHl7unLS4x-",
        "outputId": "0ecb0c4b-7591-47c9-da1a-26d115fc6668"
      },
      "source": [
        "print (9%6%2) \n",
        "#penegrjaan dari kiri ke kanan"
      ],
      "execution_count": 43,
      "outputs": [
        {
          "output_type": "stream",
          "text": [
            "1\n"
          ],
          "name": "stdout"
        }
      ]
    },
    {
      "cell_type": "code",
      "metadata": {
        "colab": {
          "base_uri": "https://localhost:8080/"
        },
        "id": "oOJMsd3UTAM0",
        "outputId": "e01c675d-a26e-44bd-ab51-80277f47b3db"
      },
      "source": [
        "print ( 2 ** 2 ** 3) #eksponen / pangkat 2 pangkat 2^3 : 2 ^8\n",
        "print ( 2 ** 5 ** 2)\n",
        "print (4 ** 3) #dibaca 4 pangkat 3\n",
        "\n",
        "#pengerjkaan dari kiri ke kanan"
      ],
      "execution_count": 53,
      "outputs": [
        {
          "output_type": "stream",
          "text": [
            "256\n",
            "33554432\n",
            "64\n"
          ],
          "name": "stdout"
        }
      ]
    },
    {
      "cell_type": "code",
      "metadata": {
        "colab": {
          "base_uri": "https://localhost:8080/"
        },
        "id": "tCuOjurNT1xp",
        "outputId": "741e0de8-dcbb-4f23-b406-6bbba13f7915"
      },
      "source": [
        "var =1\n",
        "print(var) \n",
        "#memberi tipe data apapun dalam var"
      ],
      "execution_count": 52,
      "outputs": [
        {
          "output_type": "stream",
          "text": [
            "1\n"
          ],
          "name": "stdout"
        }
      ]
    },
    {
      "cell_type": "code",
      "metadata": {
        "colab": {
          "base_uri": "https://localhost:8080/"
        },
        "id": "e0VAw6YwUg7E",
        "outputId": "d792407f-f901-4c15-a4cd-1bed62fea16f"
      },
      "source": [
        "var = 1\n",
        "saldo = 100.0\n",
        "namaKlien = 'aldin'\n",
        "print(var, saldo , namaKlien)\n",
        "print(var)"
      ],
      "execution_count": 54,
      "outputs": [
        {
          "output_type": "stream",
          "text": [
            "1 100.0 aldin\n",
            "1\n"
          ],
          "name": "stdout"
        }
      ]
    },
    {
      "cell_type": "code",
      "metadata": {
        "colab": {
          "base_uri": "https://localhost:8080/"
        },
        "id": "JFUuFvSvUo1A",
        "outputId": "f7fbf66b-b513-42e5-dd24-a184d3ba0992"
      },
      "source": [
        "var = \"2019\"\n",
        "print (\"digital talent : \" +var) \n",
        "#kontatinasi"
      ],
      "execution_count": 55,
      "outputs": [
        {
          "output_type": "stream",
          "text": [
            "digital talent : 2019\n"
          ],
          "name": "stdout"
        }
      ]
    },
    {
      "cell_type": "code",
      "metadata": {
        "colab": {
          "base_uri": "https://localhost:8080/"
        },
        "id": "Yg3N-wYqU2c0",
        "outputId": "394551d3-3a8d-4d7c-d4f8-c68c95bba762"
      },
      "source": [
        "var = 1\n",
        "print(var)\n",
        "var = var + 1\n",
        "print (var)"
      ],
      "execution_count": 56,
      "outputs": [
        {
          "output_type": "stream",
          "text": [
            "1\n",
            "2\n"
          ],
          "name": "stdout"
        }
      ]
    },
    {
      "cell_type": "code",
      "metadata": {
        "colab": {
          "base_uri": "https://localhost:8080/"
        },
        "id": "FBxNO4TYU-3p",
        "outputId": "6a4485b8-135a-48a5-81ee-1dbecbc8e8db"
      },
      "source": [
        "var  = 100 \n",
        "var = 100 + 200 \n",
        "var = 1 + 4\n",
        "print (var)\n",
        "#yang dibaca var yang akhir"
      ],
      "execution_count": 61,
      "outputs": [
        {
          "output_type": "stream",
          "text": [
            "5\n"
          ],
          "name": "stdout"
        }
      ]
    },
    {
      "cell_type": "code",
      "metadata": {
        "colab": {
          "base_uri": "https://localhost:8080/"
        },
        "id": "9XXcwd9JVMtk",
        "outputId": "86ae9cd7-4ea5-4331-d0f6-9f638e1dbc09"
      },
      "source": [
        "a = 3.0\n",
        "b = 4.0\n",
        "c = ( a ** 2 +b ** 2) ** 0.5\n",
        "print(\"c = \" , c)\n",
        "#c = akar a kuadrat + b kuadrat"
      ],
      "execution_count": 62,
      "outputs": [
        {
          "output_type": "stream",
          "text": [
            "c =  5.0\n"
          ],
          "name": "stdout"
        }
      ]
    },
    {
      "cell_type": "code",
      "metadata": {
        "colab": {
          "base_uri": "https://localhost:8080/"
        },
        "id": "NZpoY_cmVcll",
        "outputId": "24a49afa-a7ec-4d65-9663-c4f3422df331"
      },
      "source": [
        "guntur = 3\n",
        "icha = 4 \n",
        "ratna = 6\n",
        "print (\"apel milik guntur\" ,guntur)\n",
        "total  = guntur + ratna + icha\n",
        "print (\"total apel \", total)"
      ],
      "execution_count": 65,
      "outputs": [
        {
          "output_type": "stream",
          "text": [
            "apel milik guntur 3\n",
            "total apel  13\n"
          ],
          "name": "stdout"
        }
      ]
    },
    {
      "cell_type": "code",
      "metadata": {
        "colab": {
          "base_uri": "https://localhost:8080/"
        },
        "id": "fIOckxSEVxxE",
        "outputId": "c1dcd966-9286-4b81-c7e7-6c3cfd48c116"
      },
      "source": [
        "sheep = 5\n",
        "sheep = sheep +1\n",
        "print(sheep)\n",
        "\n",
        "sheep += 10\n",
        "print(sheep)\n",
        "\n",
        "sheep *=2\n",
        "print (sheep)"
      ],
      "execution_count": 69,
      "outputs": [
        {
          "output_type": "stream",
          "text": [
            "6\n",
            "16\n",
            "32\n"
          ],
          "name": "stdout"
        }
      ]
    },
    {
      "cell_type": "code",
      "metadata": {
        "colab": {
          "base_uri": "https://localhost:8080/"
        },
        "id": "vfTCv4E8WDsU",
        "outputId": "a39f1c12-d694-40ed-8dcf-c89e750ff337"
      },
      "source": [
        "\n",
        "kilometer = 12.25\n",
        "mil = 7.61\n",
        "\n",
        "mil_ke_kilometer = mil * 1.61\n",
        "kilometer_ke_mil = kilometer / 1.61\n",
        "\n",
        "\n",
        "print(mil,round(mil_ke_kilometer,4)) \n",
        "# 4 adalah 4 angka belakang koma\n",
        "print(mil, \"mil adalah\", round(mil_ke_kilometer, 2), \"kilometer\")\n",
        "print(kilometer, \"kilometer adalah\", round(kilometer_ke_mil, 2), \"mil\")"
      ],
      "execution_count": 72,
      "outputs": [
        {
          "output_type": "stream",
          "text": [
            "7.61 12.2521\n",
            "7.61 mil adalah 12.25 kilometer\n",
            "12.25 kilometer adalah 7.61 mil\n"
          ],
          "name": "stdout"
        }
      ]
    },
    {
      "cell_type": "code",
      "metadata": {
        "colab": {
          "base_uri": "https://localhost:8080/"
        },
        "id": "nD8L6ds5WYFf",
        "outputId": "ab63c7db-7b0f-49eb-fc9c-fb93586b2e94"
      },
      "source": [
        "x = -1\n",
        "x = float(x)\n",
        "y = 3*x**3 -2*x**2 +3*x -1\n",
        "print(y , \"adalah nilai y\")"
      ],
      "execution_count": 76,
      "outputs": [
        {
          "output_type": "stream",
          "text": [
            "-9.0 adalah nilai y\n"
          ],
          "name": "stdout"
        }
      ]
    },
    {
      "cell_type": "code",
      "metadata": {
        "colab": {
          "base_uri": "https://localhost:8080/"
        },
        "id": "hjWQF2SvXvZq",
        "outputId": "0f0a9905-d022-4f8d-fab5-a0eb609a7e4a"
      },
      "source": [
        "var = 2\n",
        "var =3\n",
        "print(var)"
      ],
      "execution_count": 77,
      "outputs": [
        {
          "output_type": "stream",
          "text": [
            "3\n"
          ],
          "name": "stdout"
        }
      ]
    },
    {
      "cell_type": "code",
      "metadata": {
        "colab": {
          "base_uri": "https://localhost:8080/"
        },
        "id": "MmQfmsykX5BI",
        "outputId": "32f2e08f-605e-4e1c-d3a2-83852d88c46a"
      },
      "source": [
        "a = '1'\n",
        "b = \"1\"\n",
        "print (a+b)"
      ],
      "execution_count": 78,
      "outputs": [
        {
          "output_type": "stream",
          "text": [
            "11\n"
          ],
          "name": "stdout"
        }
      ]
    },
    {
      "cell_type": "code",
      "metadata": {
        "colab": {
          "base_uri": "https://localhost:8080/",
          "height": 128
        },
        "id": "Q4kTyN12X9Xz",
        "outputId": "69d5987f-74ce-444d-ccf4-e0377a682313"
      },
      "source": [
        "a = 6\n",
        "b = 3\n",
        "a / = 2 * b\n",
        "print(a)\n",
        "#syntax error\n"
      ],
      "execution_count": 83,
      "outputs": [
        {
          "output_type": "error",
          "ename": "SyntaxError",
          "evalue": "ignored",
          "traceback": [
            "\u001b[0;36m  File \u001b[0;32m\"<ipython-input-83-1efa3abd2cff>\"\u001b[0;36m, line \u001b[0;32m3\u001b[0m\n\u001b[0;31m    a / = 2 * b\u001b[0m\n\u001b[0m        ^\u001b[0m\n\u001b[0;31mSyntaxError\u001b[0m\u001b[0;31m:\u001b[0m invalid syntax\n"
          ]
        }
      ]
    },
    {
      "cell_type": "code",
      "metadata": {
        "colab": {
          "base_uri": "https://localhost:8080/"
        },
        "id": "Fom8ktLWYOFd",
        "outputId": "72dca554-5cf4-407f-b037-7967df691729"
      },
      "source": [
        "print (\"tell me anything ....\")\n",
        "anything = input()\n",
        "print ('hmmmmm' , anything , \"...really ?\")"
      ],
      "execution_count": 84,
      "outputs": [
        {
          "output_type": "stream",
          "text": [
            "tell me anything ....\n",
            "asdasd\n",
            "hmmmmm asdasd ...really ?\n"
          ],
          "name": "stdout"
        }
      ]
    },
    {
      "cell_type": "code",
      "metadata": {
        "colab": {
          "base_uri": "https://localhost:8080/"
        },
        "id": "xjzCj-ZmYzJy",
        "outputId": "f8483553-9662-4afe-a4e2-db2de1a1e127"
      },
      "source": [
        "\n",
        "angka = float(input(\"Masukkan Angka...\"))\n",
        "print(\"Pangkat duanya adalah\", angka**2)"
      ],
      "execution_count": 87,
      "outputs": [
        {
          "output_type": "stream",
          "text": [
            "Masukkan Angka...2.0\n",
            "Pangkat duanya adalah 4.0\n"
          ],
          "name": "stdout"
        }
      ]
    },
    {
      "cell_type": "code",
      "metadata": {
        "colab": {
          "base_uri": "https://localhost:8080/"
        },
        "id": "2PihvkUmZNae",
        "outputId": "a78bec5c-a2c0-459e-d3d0-b2ee89b720bb"
      },
      "source": [
        "leg_a = float(input(\"input first leg length : \"))\n",
        "leg_b = float(input(\"input second leg length :\"))\n",
        "hypo = (leg_a**2+leg_b**2) ** .5\n",
        "print(\"hypotenuse length is :\",hypo)"
      ],
      "execution_count": 88,
      "outputs": [
        {
          "output_type": "stream",
          "text": [
            "input first leg length : 20\n",
            "input second leg length :10\n",
            "hypotenuse length is : 10.954451150103322\n"
          ],
          "name": "stdout"
        }
      ]
    },
    {
      "cell_type": "code",
      "metadata": {
        "colab": {
          "base_uri": "https://localhost:8080/"
        },
        "id": "YotbB-ZZZiZu",
        "outputId": "1d6f40aa-80d1-4718-8610-98bf85b0eb49"
      },
      "source": [
        "fnam = input(\"may i have your first name , please ?\")\n",
        "inam = input(\"May i have your last name, please?\")\n",
        "print(\"thank you\")\n",
        "print(\"\\nYour name is \" +fnam+\"\"+inam+\".\")"
      ],
      "execution_count": 90,
      "outputs": [
        {
          "output_type": "stream",
          "text": [
            "may i have your first name , please ?yes\n",
            "May i have your last name, please?sure\n",
            "thank you\n",
            "\n",
            "Your name is yes sure.\n"
          ],
          "name": "stdout"
        }
      ]
    },
    {
      "cell_type": "code",
      "metadata": {
        "colab": {
          "base_uri": "https://localhost:8080/"
        },
        "id": "M69kgRNbZ_gC",
        "outputId": "948c3fef-3e15-40f4-925b-a87d111fb1ba"
      },
      "source": [
        "#replication\n",
        "\n",
        "print (\"+\" + 10 * \"-\" + \"+\")\n",
        "print ((\"|\" + \"\" * 10 + \"|\\n\") *5, end=\"\")\n",
        "print (\"+\" +10 * \"-\" + \"+\")"
      ],
      "execution_count": 94,
      "outputs": [
        {
          "output_type": "stream",
          "text": [
            "+----------+\n",
            "||\n",
            "||\n",
            "||\n",
            "||\n",
            "||\n",
            "+----------+\n"
          ],
          "name": "stdout"
        }
      ]
    },
    {
      "cell_type": "code",
      "metadata": {
        "colab": {
          "base_uri": "https://localhost:8080/"
        },
        "id": "8JElsIRKaJ7g",
        "outputId": "66a1d1b4-ae68-4702-bed0-63c6925315f6"
      },
      "source": [
        "leg_A = float(input(\"input ur first length : \"))\n",
        "leg_b = float(input(\"input ur second length : \"))\n",
        "print(\"hypotenuse length is \"+ str((leg_A**2 + leg_b**2) ** .5))"
      ],
      "execution_count": 96,
      "outputs": [
        {
          "output_type": "stream",
          "text": [
            "input ur first length : 10\n",
            "input ur second length : 20\n",
            "hypotenuse length is 22.360679774997898\n"
          ],
          "name": "stdout"
        }
      ]
    },
    {
      "cell_type": "code",
      "metadata": {
        "colab": {
          "base_uri": "https://localhost:8080/"
        },
        "id": "LafqsFJ9bGv0",
        "outputId": "0af23046-b865-4610-9ce2-3303535694b0"
      },
      "source": [
        "a = float(input(\"Masukkan a = \"))\n",
        "b = float(input(\"Masukkan b = \"))\n",
        "print (\"a+b = \" , a+b)\n",
        "print (\"a-b = \" , a-b)\n",
        "print (\"a*b = \" , a*b)\n",
        "print (\"a/b = \" , a/b)\n",
        "print(\"\\nYeahhhh!\")"
      ],
      "execution_count": 98,
      "outputs": [
        {
          "output_type": "stream",
          "text": [
            "Masukkan a = 2\n",
            "Masukkan b = 3\n",
            "a+b =  5.0\n",
            "a-b =  -1.0\n",
            "a*b =  6.0\n",
            "a/b =  0.6666666666666666\n",
            "\n",
            "Yeahhhh!\n"
          ],
          "name": "stdout"
        }
      ]
    },
    {
      "cell_type": "code",
      "metadata": {
        "colab": {
          "base_uri": "https://localhost:8080/"
        },
        "id": "IVHHrfTIb3hd",
        "outputId": "2432eabb-1068-4958-dd5e-cb5d3d2e9335"
      },
      "source": [
        "\n",
        "x = float(input(\"Enter value for x: \"))\n",
        "\n",
        "y = 1/(x+1/(x+1/(x+1/x)))\n",
        "\n",
        "print(\"y =\", y)"
      ],
      "execution_count": 99,
      "outputs": [
        {
          "output_type": "stream",
          "text": [
            "Enter value for x: 2\n",
            "y = 0.4137931034482759\n"
          ],
          "name": "stdout"
        }
      ]
    },
    {
      "cell_type": "code",
      "metadata": {
        "colab": {
          "base_uri": "https://localhost:8080/"
        },
        "id": "fYDbbarqb87r",
        "outputId": "eb112abc-9768-452f-b1d2-31cc7e8b6791"
      },
      "source": [
        "# coba di cek lagi\n",
        "\n",
        "jam = int(input(\"waktu mulai (jam): \"))\n",
        "menit = int(input(\"waktu mulai (menit): \"))\n",
        "durasi = int(input(\"durasi kegiatan (menit): \"))\n",
        "\n",
        "tambah_menit = menit + durasi\n",
        "tambah_jam = int(tambah_menit / 60)\n",
        "\n",
        "jam += tambah_jam\n",
        "menit = tambah_menit % 60\n",
        "\n",
        "print(str(jam%24)+':'+str(menit))"
      ],
      "execution_count": 100,
      "outputs": [
        {
          "output_type": "stream",
          "text": [
            "waktu mulai (jam): 3\n",
            "waktu mulai (menit): 60\n",
            "durasi kegiatan (menit): 60\n",
            "5:0\n"
          ],
          "name": "stdout"
        }
      ]
    }
  ]
}